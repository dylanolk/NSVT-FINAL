{
 "cells": [
  {
   "cell_type": "code",
   "execution_count": 1,
   "id": "4d933a64",
   "metadata": {},
   "outputs": [],
   "source": [
    "from math import sqrt, ceil\n",
    "from numpy import linspace,cos,pi,ceil,floor,arange\n",
    "import matplotlib.pyplot as plt\n",
    "from scipy.io import wavfile\n",
    "from scipy.signal import resample\n",
    "import numpy as np\n",
    "\n",
    "#from stack overflow\n",
    "def is_prime(n):\n",
    "    if n == 2:\n",
    "        return True\n",
    "    if n % 2 == 0 or n <= 1:\n",
    "        return False\n",
    "\n",
    "    sqr = int(sqrt(n)) + 1\n",
    "\n",
    "    for d in range(3, sqr, 2):\n",
    "        if n % d == 0:\n",
    "            return False\n",
    "        \n",
    "    return True\n",
    "\n",
    "def fft_(data, rfft_use = False):\n",
    "    print(\"fft\")\n",
    "    N = len(data)\n",
    "    y = data\n",
    "    \n",
    "    # efficiency check\n",
    "    if is_prime(N):\n",
    "        N.append(0)\n",
    "    \n",
    "    if rfft_use:\n",
    "        Y_k_pos = np.abs(np.fft.rfft(y))/N\n",
    "    else:\n",
    "        # has real negative imagin -> squash to only quad 1\n",
    "        Y_k = np.fft.fft(y)[0:int(N/2)]/N # FFT + norm\n",
    "        Y_k[1:] = 2*Y_k[1:] # single-sided spectrum only\n",
    "        Y_k_pos = np.abs(Y_k) # only real part\n",
    "    \n",
    "    return Y_k_pos\n",
    "\n",
    "def fft_filter(data, threshold_pre = 99):\n",
    "    print(\"filter\")\n",
    "    threshold = np.percentile(data, threshold_pre)\n",
    "    threshold_indices = data < threshold\n",
    "    data[threshold_indices] = 0\n",
    "    \n",
    "    return data\n",
    "\n",
    "def find_ny(fdata):\n",
    "    print(\"ny\")\n",
    "    min_sample_rate = np.max(np.nonzero(fdata))*2+1\n",
    "    print(min_sample_rate)\n",
    "    return min_sample_rate\n",
    "\n",
    "def resample_(data, duration, new_rate = -1):\n",
    "    print(\"resamp\")\n",
    "    print(new_rate)\n",
    "    #return []\n",
    "    #print(new_rate, type(new_rate))\n",
    "    return resample(data, int(new_rate*duration))\n",
    "\n",
    "def ifft_(fdata):\n",
    "    print(\"ifft\")\n",
    "    return np.fft.ifft(fdata)\n",
    "\n",
    "def resample_summary(data, original_rate, new_rate = 0, threshold = 99):\n",
    "    \n",
    "    duration = len(data)/original_rate\n",
    "    \n",
    "    def channel_summary(c):\n",
    "        print(\"channel\")\n",
    "        ret = {}\n",
    "        ret[\"fdata\"] = fft_(c)\n",
    "        ret[\"ffdata\"] = fft_filter(ret[\"fdata\"], threshold)\n",
    "        ret[\"ny_rate\"] = find_ny(ret[\"ffdata\"])\n",
    "        ret[\"ifftdata\"] = ifft_(ret[\"fdata\"])\n",
    "        \n",
    "        if new_rate == 0:\n",
    "            new_data = resample_(data, duration, ret[\"ny_rate\"])\n",
    "            ret[\"new_rate\"] = ret[\"ny_rate\"]\n",
    "        else:\n",
    "            new_data = resample_(data, duration, new_rate)\n",
    "            ret[\"new_rate\"] = new_rate\n",
    "            \n",
    "        ret[\"data\"] = new_data\n",
    "        return ret\n",
    "        \n",
    "        \n",
    "    channels = []\n",
    "    if type(data[0]) == list:\n",
    "        x,y = map(list, zip(*data))\n",
    "        channels = [x,y]\n",
    "    else:\n",
    "        channels = [data]\n",
    "        \n",
    "    resampled_channels = [] \n",
    "    for each in channels:\n",
    "        resampled_channels.append(channel_summary(each))\n",
    "    \n",
    "    return resampled_channels"
   ]
  },
  {
   "cell_type": "code",
   "execution_count": 2,
   "id": "8ccfbc2d",
   "metadata": {},
   "outputs": [
    {
     "name": "stdout",
     "output_type": "stream",
     "text": [
      "channel\n",
      "fft\n",
      "filter\n",
      "ny\n",
      "14217\n",
      "ifft\n",
      "resamp\n",
      "14217\n"
     ]
    },
    {
     "data": {
      "text/plain": [
       "array([ -76.42217626,   56.01929229,  -40.14960322, ...,   17.12074494,\n",
       "       -233.66116701, -267.3948048 ])"
      ]
     },
     "execution_count": 2,
     "metadata": {},
     "output_type": "execute_result"
    }
   ],
   "source": [
    "freq, sound = wavfile.read(\"cantina.wav\")\n",
    "\n",
    "\n",
    "aa = resample_summary(sound, freq)\n",
    "if len(aa) == 1:\n",
    "    data = aa[0][\"data\"]\n",
    "else:\n",
    "    a = np.asarray(aa[0][\"data\"])\n",
    "    b = np.asarray(aa[1][\"data\"])\n",
    "    data = np.stack((a,b), axis = 1)\n",
    "    data = np.asarray(data)\n",
    "    \n",
    "data"
   ]
  },
  {
   "cell_type": "code",
   "execution_count": null,
   "id": "35a383c2",
   "metadata": {},
   "outputs": [],
   "source": [
    "wavfile.write(\"c2.wav\", aa[0]['new_rate'],data)"
   ]
  },
  {
   "cell_type": "code",
   "execution_count": 3,
   "id": "d3635ee4",
   "metadata": {},
   "outputs": [
    {
     "name": "stdout",
     "output_type": "stream",
     "text": [
      "channel\n",
      "fft\n",
      "filter\n",
      "ny\n",
      "459155\n",
      "ifft\n",
      "resamp\n",
      "459155\n"
     ]
    },
    {
     "data": {
      "text/plain": [
       "array([[ 1.06869057e-12,  4.71481133e-13],\n",
       "       [ 3.86614247e+01, -5.62490390e+00],\n",
       "       [ 6.69095982e+01, -9.29419129e+00],\n",
       "       ...,\n",
       "       [-1.69734540e+02,  3.05745571e+01],\n",
       "       [-1.05594515e+02,  1.79486876e+01],\n",
       "       [-4.84688047e+01,  7.79924848e+00]])"
      ]
     },
     "execution_count": 3,
     "metadata": {},
     "output_type": "execute_result"
    }
   ],
   "source": [
    "freq, sound = wavfile.read(\"2samp.wav\")\n",
    "aa = resample_summary(sound, freq)\n",
    "if len(aa) == 1:\n",
    "    data = aa[0][\"data\"]\n",
    "else:\n",
    "    a = np.asarray(aa[0][\"data\"])\n",
    "    b = np.asarray(aa[1][\"data\"])\n",
    "    data = np.stack((a,b), axis = 1)\n",
    "    data = np.asarray(data)\n",
    "    \n",
    "data"
   ]
  },
  {
   "cell_type": "code",
   "execution_count": null,
   "id": "0e71fa75",
   "metadata": {},
   "outputs": [],
   "source": [
    "wavfile.write(\"22.wav\", aa[0]['new_rate'],data)"
   ]
  }
 ],
 "metadata": {
  "kernelspec": {
   "display_name": "Python 3",
   "language": "python",
   "name": "python3"
  },
  "language_info": {
   "codemirror_mode": {
    "name": "ipython",
    "version": 3
   },
   "file_extension": ".py",
   "mimetype": "text/x-python",
   "name": "python",
   "nbconvert_exporter": "python",
   "pygments_lexer": "ipython3",
   "version": "3.7.10"
  }
 },
 "nbformat": 4,
 "nbformat_minor": 5
}
