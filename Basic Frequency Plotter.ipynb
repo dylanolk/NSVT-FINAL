#
# A basic program that reads a WAV file and displays its frequency waveform
# Contributor: Seth Spiegel
# Edited from code by Eugene Klyshko, https://klyshko.github.io/teaching/2019-02-22-teaching

import matplotlib.pyplot as plt
import numpy as np
from scipy.io import wavfile
%matplotlib inline

plt.rcParams['figure.dpi'] = 100
plt.rcParams['figure.figsize'] = (9, 7)

sampFreq, sound = wavfile.read('Audio Samples/file_example_WAV_1MG.wav')

sound.dtype, sampFreq

sound = sound / 2.0**15

sound.shape

(45568, 2)

length_in_s = sound.shape[0] / sampFreq
print(length_in_s)

plt.subplot(2,1,1)
plt.plot(sound[:,0], 'r')
plt.xlabel("left channel, sample #")
plt.subplot(2,1,2)
plt.plot(sound[:,1], 'b')
plt.xlabel("right channel, sample #")
plt.tight_layout()
plt.show()

time = np.arange(sound.shape[0]) / sound.shape[0] * length_in_s

signal = sound[:,0]

plt.plot(time[6000:7000], signal[6000:7000])
plt.xlabel("time, s")
plt.ylabel("Signal, relative units")
plt.show()
